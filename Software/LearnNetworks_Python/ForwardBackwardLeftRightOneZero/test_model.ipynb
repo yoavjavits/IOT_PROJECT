{
 "cells": [
  {
   "cell_type": "code",
   "execution_count": 1,
   "metadata": {},
   "outputs": [
    {
     "name": "stdout",
     "output_type": "stream",
     "text": [
      "Input Device id  0  -  Microsoft Sound Mapper - Input\n",
      "Input Device id  1  -  Microphone Array (טכנולוגיית In\n"
     ]
    }
   ],
   "source": [
    "import pyaudio\n",
    "import time\n",
    "import numpy as np\n",
    "import tensorflow as tf\n",
    "from tensorflow import keras\n",
    "from tensorflow.python.ops import gen_audio_ops as audio_ops\n",
    "from datetime import datetime\n",
    "\n",
    "model = keras.models.load_model(\"fully_trained.model\")\n",
    "\n",
    "FORMAT = pyaudio.paFloat32\n",
    "RATE = 16000\n",
    "CHANNELS = 1\n",
    "NOFFRAMES = 8000\n",
    "\n",
    "audio = pyaudio.PyAudio()\n",
    "\n",
    "info = audio.get_host_api_info_by_index(0)\n",
    "numdevices = info.get('deviceCount')\n",
    "for i in range(0, numdevices):\n",
    "    if (audio.get_device_info_by_host_api_device_index(0, i).get('maxInputChannels')) > 0:\n",
    "        print(\"Input Device id \", i, \" - \",\n",
    "              audio.get_device_info_by_host_api_device_index(0, i).get('name'))\n",
    "\n",
    "\n",
    "samples = np.zeros((8000))\n",
    "\n",
    "\n",
    "def callback(input_data, frame_count, time_info, flags):\n",
    "    global samples\n",
    "    # print(\"Got audio \" + str(frame_count))\n",
    "    new_samples = np.frombuffer(input_data, np.float32)\n",
    "    samples = np.concatenate((samples, new_samples))\n",
    "    samples = samples[-16000:]\n",
    "\n",
    "    if len(samples) == 16000:\n",
    "        start = time.perf_counter()\n",
    "        # normalise the samples\n",
    "        normalised = samples - np.mean(samples)\n",
    "        max = np.max(normalised)\n",
    "        if max > 0:\n",
    "            normalised = normalised / max\n",
    "\n",
    "        # create the spectrogram\n",
    "        spectrogram = audio_ops.audio_spectrogram(\n",
    "            np.reshape(normalised, (16000, 1)),\n",
    "            window_size=320,\n",
    "            stride=160, \n",
    "            magnitude_squared=True)\n",
    "        # reduce the number of frequency bins in our spectrogram to a more sensible level\n",
    "        spectrogram = tf.nn.pool(\n",
    "            input=tf.expand_dims(spectrogram, -1),\n",
    "            window_shape=[1, 6],\n",
    "            strides=[1, 6],\n",
    "            pooling_type='AVG',\n",
    "            padding='SAME')\n",
    "        # remove the first 1 index\n",
    "        spectrogram = tf.squeeze(spectrogram, axis=0)\n",
    "        spectrogram = np.log10(spectrogram + 1e-6)\n",
    "        prediction = model.predict(np.reshape(spectrogram, (1, 99, 43, 1)))        \n",
    "        \n",
    "        index = 0\n",
    "        max_value = 0\n",
    "        for i in range(7):\n",
    "            if prediction[0][i] > max_value:\n",
    "                max_value = prediction[0][i]\n",
    "                index = i\n",
    "        \n",
    "        dict_predict = {0 : 'forward', 1: 'backward', 2:'left', 3:'right', 4:'one', 5:'zero', 6:'invalid'}        \n",
    "        if max_value > 0.95 and index != 6:\n",
    "            print(\n",
    "                f\"{datetime.now().time()} - {dict_predict[index]}, and score: {max_value}\")\n",
    "        \n",
    "        end = time.perf_counter()\n",
    "        # print((end-start)*1000)\n",
    "\n",
    "    return input_data, pyaudio.paContinue"
   ]
  },
  {
   "cell_type": "code",
   "execution_count": 2,
   "metadata": {},
   "outputs": [
    {
     "name": "stdout",
     "output_type": "stream",
     "text": [
      "speak\n",
      "18:21:33.751207 - right, and score: 0.9937392473220825\n",
      "18:21:34.241819 - right, and score: 0.9969931840896606\n",
      "18:21:37.742705 - zero, and score: 0.9659212827682495\n",
      "18:21:46.747116 - left, and score: 0.9734567999839783\n",
      "18:21:51.741806 - backward, and score: 0.9999552965164185\n",
      "18:22:08.781565 - zero, and score: 0.9893720746040344\n",
      "18:22:09.346619 - zero, and score: 0.9988598823547363\n"
     ]
    },
    {
     "ename": "KeyboardInterrupt",
     "evalue": "",
     "output_type": "error",
     "traceback": [
      "\u001b[1;31m---------------------------------------------------------------------------\u001b[0m",
      "\u001b[1;31mKeyboardInterrupt\u001b[0m                         Traceback (most recent call last)",
      "\u001b[1;32mc:\\Users\\javits\\Technion\\IOT_PROJECT_236332\\IOT_PROJECT\\Software\\LearnNetworks_Python\\ForwardBackwardLeftRightOneZero\\test_model.ipynb Cell 2'\u001b[0m in \u001b[0;36m<cell line: 14>\u001b[1;34m()\u001b[0m\n\u001b[0;32m     <a href='vscode-notebook-cell:/c%3A/Users/javits/Technion/IOT_PROJECT_236332/IOT_PROJECT/Software/LearnNetworks_Python/ForwardBackwardLeftRightOneZero/test_model.ipynb#ch0000001?line=12'>13</a>\u001b[0m \u001b[39m# wait for stream to finish (5)\u001b[39;00m\n\u001b[0;32m     <a href='vscode-notebook-cell:/c%3A/Users/javits/Technion/IOT_PROJECT_236332/IOT_PROJECT/Software/LearnNetworks_Python/ForwardBackwardLeftRightOneZero/test_model.ipynb#ch0000001?line=13'>14</a>\u001b[0m \u001b[39mwhile\u001b[39;00m stream\u001b[39m.\u001b[39mis_active() \u001b[39mand\u001b[39;00m time\u001b[39m.\u001b[39mtime:\n\u001b[1;32m---> <a href='vscode-notebook-cell:/c%3A/Users/javits/Technion/IOT_PROJECT_236332/IOT_PROJECT/Software/LearnNetworks_Python/ForwardBackwardLeftRightOneZero/test_model.ipynb#ch0000001?line=14'>15</a>\u001b[0m     time\u001b[39m.\u001b[39;49msleep(\u001b[39m0.1\u001b[39;49m)\n",
      "\u001b[1;31mKeyboardInterrupt\u001b[0m: "
     ]
    },
    {
     "name": "stdout",
     "output_type": "stream",
     "text": [
      "18:23:13.242907 - backward, and score: 0.9757394790649414\n",
      "18:23:15.752092 - zero, and score: 0.9983800649642944\n",
      "18:24:05.252164 - zero, and score: 0.9548250436782837\n",
      "18:24:35.751509 - backward, and score: 0.999591052532196\n",
      "18:24:42.744052 - right, and score: 0.9584351778030396\n",
      "18:24:48.246540 - backward, and score: 0.9875519275665283\n",
      "18:24:50.259382 - backward, and score: 0.9970458149909973\n",
      "18:24:51.745676 - right, and score: 0.9999769926071167\n",
      "18:24:57.252624 - backward, and score: 0.9999302625656128\n",
      "18:25:02.744146 - one, and score: 0.999485969543457\n",
      "18:25:03.249482 - zero, and score: 0.9833173751831055\n",
      "18:25:03.781106 - zero, and score: 0.9986594915390015\n",
      "18:25:32.741961 - backward, and score: 0.998521625995636\n",
      "18:25:33.278212 - backward, and score: 0.9921344518661499\n",
      "18:25:40.745534 - right, and score: 0.9997754693031311\n",
      "18:25:49.741331 - zero, and score: 0.9603376388549805\n",
      "18:26:00.258973 - backward, and score: 0.9545948505401611\n",
      "18:26:02.245844 - left, and score: 0.9560107588768005\n",
      "18:26:02.749492 - zero, and score: 0.9938374161720276\n",
      "18:26:05.257884 - zero, and score: 0.9900828003883362\n",
      "18:26:16.257023 - zero, and score: 0.992089033126831\n",
      "18:26:18.745312 - backward, and score: 0.9517835378646851\n",
      "18:26:20.256031 - backward, and score: 0.990304172039032\n",
      "18:26:30.253305 - right, and score: 0.9688569903373718\n",
      "18:26:37.245972 - zero, and score: 0.9779079556465149\n",
      "18:26:40.255533 - right, and score: 0.9961279034614563\n",
      "18:26:44.741081 - zero, and score: 0.9661624431610107\n",
      "18:26:45.751360 - zero, and score: 0.9569776654243469\n",
      "18:26:49.744145 - zero, and score: 0.9729535579681396\n",
      "18:26:58.741158 - backward, and score: 0.9999544620513916\n",
      "18:27:01.748468 - right, and score: 0.9607520699501038\n",
      "18:27:02.250595 - right, and score: 0.9866988658905029\n",
      "18:27:16.749257 - zero, and score: 0.9520610570907593\n",
      "18:27:25.755025 - zero, and score: 0.9581010937690735\n",
      "18:27:32.244023 - zero, and score: 0.979532778263092\n",
      "18:27:45.743202 - zero, and score: 0.9521256685256958\n",
      "18:27:54.325026 - zero, and score: 0.9996641874313354\n"
     ]
    }
   ],
   "source": [
    "stream = audio.open(\n",
    "    input_device_index=0,\n",
    "    format=FORMAT,\n",
    "    channels=CHANNELS,\n",
    "    rate=RATE,\n",
    "    input=True,\n",
    "    stream_callback=callback,\n",
    "    frames_per_buffer=NOFFRAMES)\n",
    "\n",
    "stream.start_stream()\n",
    "print(\"speak\")\n",
    "\n",
    "# wait for stream to finish (5)\n",
    "while stream.is_active() and time.time:\n",
    "    time.sleep(0.1)"
   ]
  },
  {
   "cell_type": "code",
   "execution_count": null,
   "metadata": {},
   "outputs": [],
   "source": [
    "# stream.stop_stream()\n",
    "# stream.close()\n",
    "# p.terminate()\n",
    "# print('done')\n",
    "# plt.plot(decoded)\n",
    "# plt.show()"
   ]
  },
  {
   "cell_type": "code",
   "execution_count": null,
   "metadata": {},
   "outputs": [],
   "source": []
  }
 ],
 "metadata": {
  "interpreter": {
   "hash": "b7fb1200cdbce936b89092ce41e5d7335b36a1df3306eb52694f72a51452b86b"
  },
  "kernelspec": {
   "display_name": "Python 3.9.12 64-bit (windows store)",
   "language": "python",
   "name": "python3"
  },
  "language_info": {
   "codemirror_mode": {
    "name": "ipython",
    "version": 3
   },
   "file_extension": ".py",
   "mimetype": "text/x-python",
   "name": "python",
   "nbconvert_exporter": "python",
   "pygments_lexer": "ipython3",
   "version": "3.9.12"
  },
  "orig_nbformat": 4
 },
 "nbformat": 4,
 "nbformat_minor": 2
}
