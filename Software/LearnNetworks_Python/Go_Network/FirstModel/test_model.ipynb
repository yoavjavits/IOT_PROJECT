{
 "cells": [
  {
   "cell_type": "code",
   "execution_count": 1,
   "metadata": {},
   "outputs": [
    {
     "name": "stdout",
     "output_type": "stream",
     "text": [
      "Input Device id  0  -  Microsoft Sound Mapper - Input\n",
      "Input Device id  1  -  Microphone Array (טכנולוגיית In\n"
     ]
    }
   ],
   "source": [
    "import pyaudio\n",
    "import time\n",
    "import numpy as np\n",
    "import tensorflow as tf\n",
    "from tensorflow import keras\n",
    "from tensorflow.python.ops import gen_audio_ops as audio_ops\n",
    "from datetime import datetime\n",
    "\n",
    "model = keras.models.load_model(\"fully_trained.model\")\n",
    "\n",
    "FORMAT = pyaudio.paFloat32\n",
    "RATE = 16000\n",
    "CHANNELS = 1\n",
    "NOFFRAMES = 8000\n",
    "\n",
    "audio = pyaudio.PyAudio()\n",
    "\n",
    "info = audio.get_host_api_info_by_index(0)\n",
    "numdevices = info.get('deviceCount')\n",
    "for i in range(0, numdevices):\n",
    "    if (audio.get_device_info_by_host_api_device_index(0, i).get('maxInputChannels')) > 0:\n",
    "        print(\"Input Device id \", i, \" - \",\n",
    "              audio.get_device_info_by_host_api_device_index(0, i).get('name'))\n",
    "\n",
    "\n",
    "samples = np.zeros((8000))\n",
    "\n",
    "\n",
    "def callback(input_data, frame_count, time_info, flags):\n",
    "    global samples\n",
    "    # print(\"Got audio \" + str(frame_count))\n",
    "    new_samples = np.frombuffer(input_data, np.float32)\n",
    "    samples = np.concatenate((samples, new_samples))\n",
    "    samples = samples[-16000:]\n",
    "\n",
    "    if len(samples) == 16000:\n",
    "        start = time.perf_counter()\n",
    "        # normalise the samples\n",
    "        normalised = samples - np.mean(samples)\n",
    "        max = np.max(normalised)\n",
    "        if max > 0:\n",
    "            normalised = normalised / max\n",
    "\n",
    "        # create the spectrogram\n",
    "        spectrogram = audio_ops.audio_spectrogram(\n",
    "            np.reshape(normalised, (16000, 1)),\n",
    "            window_size=320,\n",
    "            stride=160, \n",
    "            magnitude_squared=True)\n",
    "        # reduce the number of frequency bins in our spectrogram to a more sensible level\n",
    "        spectrogram = tf.nn.pool(\n",
    "            input=tf.expand_dims(spectrogram, -1),\n",
    "            window_shape=[1, 6],\n",
    "            strides=[1, 6],\n",
    "            pooling_type='AVG',\n",
    "            padding='SAME')\n",
    "        # remove the first 1 index\n",
    "        spectrogram = tf.squeeze(spectrogram, axis=0)\n",
    "        spectrogram = np.log10(spectrogram + 1e-6)\n",
    "        prediction = model  .predict(np.reshape(spectrogram, (1, 99, 43, 1)))\n",
    "        if prediction[0][0] > 0.95:\n",
    "            print(\n",
    "                f\"{datetime.now().time()} - Go !  {prediction[0][0]}\")\n",
    "        end = time.perf_counter()\n",
    "        # print((end-start)*1000)\n",
    "\n",
    "    return input_data, pyaudio.paContinue"
   ]
  },
  {
   "cell_type": "code",
   "execution_count": 2,
   "metadata": {},
   "outputs": [
    {
     "name": "stdout",
     "output_type": "stream",
     "text": [
      "speak\n",
      "21:34:09.930474 - Go !  0.9634836912155151\n",
      "21:34:24.958687 - Go !  0.9640662670135498\n",
      "21:34:29.919161 - Go !  0.9523192048072815\n",
      "21:34:34.427145 - Go !  0.9595927000045776\n",
      "21:34:51.434890 - Go !  0.9987392425537109\n",
      "21:34:51.959317 - Go !  0.9990761280059814\n",
      "21:35:11.438317 - Go !  0.9732465744018555\n",
      "21:35:15.924390 - Go !  0.9885846972465515\n",
      "21:35:16.436315 - Go !  0.9987018704414368\n",
      "21:35:22.473810 - Go !  0.9850963354110718\n",
      "21:35:29.432153 - Go !  0.9798650741577148\n",
      "21:35:35.931709 - Go !  0.9900891184806824\n",
      "21:36:00.430118 - Go !  0.9795277118682861\n",
      "21:36:01.930002 - Go !  0.9862238168716431\n",
      "21:36:19.453315 - Go !  0.991342306137085\n"
     ]
    },
    {
     "ename": "KeyboardInterrupt",
     "evalue": "",
     "output_type": "error",
     "traceback": [
      "\u001b[1;31m---------------------------------------------------------------------------\u001b[0m",
      "\u001b[1;31mKeyboardInterrupt\u001b[0m                         Traceback (most recent call last)",
      "\u001b[1;32mc:\\Users\\javits\\Technion\\IOT_PROJECT_236332\\IOT_PROJECT\\WakeDetectorWord\\test_model.ipynb Cell 2'\u001b[0m in \u001b[0;36m<cell line: 14>\u001b[1;34m()\u001b[0m\n\u001b[0;32m     <a href='vscode-notebook-cell:/c%3A/Users/javits/Technion/IOT_PROJECT_236332/IOT_PROJECT/WakeDetectorWord/test_model.ipynb#ch0000001?line=12'>13</a>\u001b[0m \u001b[39m# wait for stream to finish (5)\u001b[39;00m\n\u001b[0;32m     <a href='vscode-notebook-cell:/c%3A/Users/javits/Technion/IOT_PROJECT_236332/IOT_PROJECT/WakeDetectorWord/test_model.ipynb#ch0000001?line=13'>14</a>\u001b[0m \u001b[39mwhile\u001b[39;00m stream\u001b[39m.\u001b[39mis_active() \u001b[39mand\u001b[39;00m time\u001b[39m.\u001b[39mtime:\n\u001b[1;32m---> <a href='vscode-notebook-cell:/c%3A/Users/javits/Technion/IOT_PROJECT_236332/IOT_PROJECT/WakeDetectorWord/test_model.ipynb#ch0000001?line=14'>15</a>\u001b[0m     time\u001b[39m.\u001b[39;49msleep(\u001b[39m0.1\u001b[39;49m)\n",
      "\u001b[1;31mKeyboardInterrupt\u001b[0m: "
     ]
    },
    {
     "name": "stdout",
     "output_type": "stream",
     "text": [
      "10:54:30.769536 - Go !  0.9715851545333862\n",
      "10:55:06.277274 - Go !  0.9987924695014954\n",
      "10:55:06.773880 - Go !  0.9941864609718323\n",
      "10:55:09.772790 - Go !  0.966841459274292\n",
      "10:56:43.978472 - Go !  0.9867025017738342\n",
      "10:56:56.939101 - Go !  0.9996706247329712\n",
      "10:56:57.459991 - Go !  0.9997084140777588\n",
      "10:57:00.956611 - Go !  0.9842497110366821\n",
      "10:57:01.462622 - Go !  0.9660252332687378\n",
      "10:57:39.116482 - Go !  0.9896805286407471\n",
      "10:58:21.613332 - Go !  0.9522767066955566\n",
      "10:59:22.564377 - Go !  0.992982029914856\n",
      "10:59:23.043281 - Go !  0.9539626836776733\n",
      "11:00:05.536758 - Go !  0.9641784429550171\n",
      "11:00:17.527707 - Go !  0.9556497931480408\n",
      "11:02:53.537961 - Go !  0.9652309417724609\n",
      "11:02:54.036464 - Go !  0.9840492010116577\n",
      "11:03:49.541174 - Go !  0.9723050594329834\n",
      "11:03:50.036259 - Go !  0.9974435567855835\n",
      "11:03:51.033951 - Go !  0.9833171367645264\n",
      "11:04:27.536846 - Go !  0.9908380508422852\n",
      "11:04:56.540494 - Go !  0.9577382802963257\n",
      "11:06:30.538795 - Go !  0.9582986831665039\n",
      "11:06:31.034787 - Go !  0.966681718826294\n",
      "11:08:21.036515 - Go !  0.9517278671264648\n",
      "11:08:21.573182 - Go !  0.9713698625564575\n",
      "11:08:25.542377 - Go !  0.9719237089157104\n",
      "11:08:46.542365 - Go !  0.9513462781906128\n",
      "11:09:02.031313 - Go !  0.9929065704345703\n",
      "11:09:02.542288 - Go !  0.9807738065719604\n",
      "11:09:05.529034 - Go !  0.9944057464599609\n",
      "11:09:06.031256 - Go !  0.9891162514686584\n",
      "11:09:08.554736 - Go !  0.9674359560012817\n",
      "11:10:53.039580 - Go !  0.962809681892395\n",
      "11:13:42.110952 - Go !  0.9635183811187744\n",
      "11:15:44.476117 - Go !  0.957451581954956\n"
     ]
    }
   ],
   "source": [
    "stream = audio.open(\n",
    "    input_device_index=0,\n",
    "    format=FORMAT,\n",
    "    channels=CHANNELS,\n",
    "    rate=RATE,\n",
    "    input=True,\n",
    "    stream_callback=callback,\n",
    "    frames_per_buffer=NOFFRAMES)\n",
    "\n",
    "stream.start_stream()\n",
    "print(\"speak\")\n",
    "\n",
    "# wait for stream to finish (5)\n",
    "while stream.is_active() and time.time:\n",
    "    time.sleep(0.1)"
   ]
  },
  {
   "cell_type": "code",
   "execution_count": null,
   "metadata": {},
   "outputs": [],
   "source": [
    "# stream.stop_stream()\n",
    "# stream.close()\n",
    "# p.terminate()\n",
    "# print('done')\n",
    "# plt.plot(decoded)\n",
    "# plt.show()"
   ]
  },
  {
   "cell_type": "code",
   "execution_count": null,
   "metadata": {},
   "outputs": [],
   "source": []
  }
 ],
 "metadata": {
  "interpreter": {
   "hash": "b151130104a94ff3017b68869b22a1ced11b5d2f82a48a6f06a71b58209bb882"
  },
  "kernelspec": {
   "display_name": "Python 3.9.12 64-bit (windows store)",
   "language": "python",
   "name": "python3"
  },
  "language_info": {
   "codemirror_mode": {
    "name": "ipython",
    "version": 3
   },
   "file_extension": ".py",
   "mimetype": "text/x-python",
   "name": "python",
   "nbconvert_exporter": "python",
   "pygments_lexer": "ipython3",
   "version": "3.9.12"
  },
  "orig_nbformat": 4
 },
 "nbformat": 4,
 "nbformat_minor": 2
}
