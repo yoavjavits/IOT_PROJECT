{
 "cells": [
  {
   "cell_type": "code",
   "execution_count": 3,
   "metadata": {},
   "outputs": [],
   "source": [
    "fr = open(\"go_words_contain.txt\", 'r')\n",
    "fw = open(\"go_words_contain_modified.txt\", 'w')\n",
    "\n",
    "for word in fr:\n",
    "    if word.startswith('go')==False:\n",
    "        fw.write(word)\n",
    "\n",
    "fr.close()\n",
    "fw.close()"
   ]
  },
  {
   "cell_type": "code",
   "execution_count": 8,
   "metadata": {},
   "outputs": [],
   "source": [
    "import pyttsx3\n",
    "\n",
    "fs = open(\"go_words_start.txt\", 'r')\n",
    "fm = open(\"go_words_contain_modified.txt\", 'r')\n",
    "\n",
    "name_start=\"start_go_\"\n",
    "name_contain=\"contain_go_\"\n",
    "i=1\n",
    "j=1\n",
    "\n",
    "engine = pyttsx3.init()\n",
    "engine.setProperty('rate', 160)\n",
    "voices = engine.getProperty('voices')\n",
    "\n",
    "for voice in voices:\n",
    "    engine.setProperty('voice', voice.id)\n",
    "\n",
    "    for word in fs:\n",
    "        file_name=name_start+str(i)+\".wav\"\n",
    "        engine.save_to_file(word, file_name)\n",
    "        i+=1\n",
    "\n",
    "    for word in fm:\n",
    "        file_name=name_contain+str(j)+\".wav\"\n",
    "        engine.save_to_file(word, file_name)\n",
    "        j+=1\n",
    "\n",
    "engine.runAndWait()\n"
   ]
  },
  {
   "cell_type": "code",
   "execution_count": 1,
   "metadata": {},
   "outputs": [
    {
     "data": {
      "text/plain": [
       "1"
      ]
     },
     "execution_count": 1,
     "metadata": {},
     "output_type": "execute_result"
    }
   ],
   "source": [
    "from gtts import gTTS\n",
    "import os\n",
    "mytext = 'Welcome to geeksforgeeks!'\n",
    "language = 'en'\n",
    "\n",
    "# Passing the text and language to the engine,\n",
    "# here we have marked slow=False. Which tells\n",
    "# the module that the converted audio should\n",
    "# have a high speed\n",
    "myobj = gTTS(text=mytext, lang=language, slow=False)\n",
    "\n",
    "# Saving the converted audio in a mp3 file named\n",
    "# welcome\n",
    "myobj.save(\"welcome.mp3\")\n",
    "\n",
    "# Playing the converted file\n",
    "os.system(\"mpg321 welcome.mp3\")\n"
   ]
  }
 ],
 "metadata": {
  "interpreter": {
   "hash": "1437f6a513b0589a7fb822d647fa10730a26372cd2e7301fa573814899850322"
  },
  "kernelspec": {
   "display_name": "Python 3.10.4 64-bit",
   "language": "python",
   "name": "python3"
  },
  "language_info": {
   "codemirror_mode": {
    "name": "ipython",
    "version": 3
   },
   "file_extension": ".py",
   "mimetype": "text/x-python",
   "name": "python",
   "nbconvert_exporter": "python",
   "pygments_lexer": "ipython3",
   "version": "3.10.4"
  },
  "orig_nbformat": 4
 },
 "nbformat": 4,
 "nbformat_minor": 2
}
