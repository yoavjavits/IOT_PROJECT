{
 "cells": [
  {
   "cell_type": "code",
   "execution_count": 1,
   "metadata": {},
   "outputs": [
    {
     "name": "stdout",
     "output_type": "stream",
     "text": [
      "Input Device id  0  -  Microsoft Sound Mapper - Input\n",
      "Input Device id  1  -  Microphone Array (טכנולוגיית In\n"
     ]
    }
   ],
   "source": [
    "import pyaudio\n",
    "import time\n",
    "import numpy as np\n",
    "import tensorflow as tf\n",
    "from tensorflow import keras\n",
    "from tensorflow.python.ops import gen_audio_ops as audio_ops\n",
    "from datetime import datetime\n",
    "\n",
    "model = keras.models.load_model(\"fully_trained.model\")\n",
    "\n",
    "FORMAT = pyaudio.paFloat32\n",
    "RATE = 16000\n",
    "CHANNELS = 1\n",
    "NOFFRAMES = 8000\n",
    "\n",
    "audio = pyaudio.PyAudio()\n",
    "\n",
    "info = audio.get_host_api_info_by_index(0)\n",
    "numdevices = info.get('deviceCount')\n",
    "for i in range(0, numdevices):\n",
    "    if (audio.get_device_info_by_host_api_device_index(0, i).get('maxInputChannels')) > 0:\n",
    "        print(\"Input Device id \", i, \" - \",\n",
    "              audio.get_device_info_by_host_api_device_index(0, i).get('name'))\n",
    "\n",
    "\n",
    "samples = np.zeros((8000))\n",
    "\n",
    "\n",
    "def callback(input_data, frame_count, time_info, flags):\n",
    "    global samples\n",
    "    # print(\"Got audio \" + str(frame_count))\n",
    "    new_samples = np.frombuffer(input_data, np.float32)\n",
    "    samples = np.concatenate((samples, new_samples))\n",
    "    samples = samples[-16000:]\n",
    "\n",
    "    if len(samples) == 16000:\n",
    "        start = time.perf_counter()\n",
    "        # normalise the samples\n",
    "        normalised = samples - np.mean(samples)\n",
    "        max = np.max(normalised)\n",
    "        if max > 0:\n",
    "            normalised = normalised / max\n",
    "\n",
    "        # create the spectrogram\n",
    "        spectrogram = audio_ops.audio_spectrogram(\n",
    "            np.reshape(normalised, (16000, 1)),\n",
    "            window_size=320,\n",
    "            stride=160, \n",
    "            magnitude_squared=True)\n",
    "        # reduce the number of frequency bins in our spectrogram to a more sensible level\n",
    "        spectrogram = tf.nn.pool(\n",
    "            input=tf.expand_dims(spectrogram, -1),\n",
    "            window_shape=[1, 6],\n",
    "            strides=[1, 6],\n",
    "            pooling_type='AVG',\n",
    "            padding='SAME')\n",
    "        # remove the first 1 index\n",
    "        spectrogram = tf.squeeze(spectrogram, axis=0)\n",
    "        spectrogram = np.log10(spectrogram + 1e-6)\n",
    "        prediction = model  .predict(np.reshape(spectrogram, (1, 99, 43, 1)))\n",
    "        if prediction[0][0] > 0.95:\n",
    "            print(\n",
    "                f\"{datetime.now().time()} - Go !  {prediction[0][0]}\")\n",
    "        end = time.perf_counter()\n",
    "        # print((end-start)*1000)\n",
    "\n",
    "    return input_data, pyaudio.paContinue"
   ]
  },
  {
   "cell_type": "code",
   "execution_count": 2,
   "metadata": {},
   "outputs": [
    {
     "name": "stdout",
     "output_type": "stream",
     "text": [
      "speak\n",
      "09:24:21.492952 - Go !  0.9989039301872253\n",
      "09:24:29.508036 - Go !  0.9998001456260681\n",
      "09:24:40.973372 - Go !  0.9684606790542603\n",
      "09:24:41.488208 - Go !  0.9798647165298462\n",
      "09:25:14.509194 - Go !  0.9739519357681274\n",
      "09:25:14.984262 - Go !  0.997850775718689\n"
     ]
    },
    {
     "ename": "Error",
     "evalue": "Canceled future for execute_request message before replies were done",
     "output_type": "error",
     "traceback": [
      "Error: Canceled future for execute_request message before replies were done",
      "at t.KernelShellFutureHandler.dispose (c:\\Users\\javits\\.vscode\\extensions\\ms-toolsai.jupyter-2022.3.1000901801\\out\\extension.js:2:1204175)",
      "at c:\\Users\\javits\\.vscode\\extensions\\ms-toolsai.jupyter-2022.3.1000901801\\out\\extension.js:2:1223227",
      "at Map.forEach (<anonymous>)",
      "at v._clearKernelState (c:\\Users\\javits\\.vscode\\extensions\\ms-toolsai.jupyter-2022.3.1000901801\\out\\extension.js:2:1223212)",
      "at v.dispose (c:\\Users\\javits\\.vscode\\extensions\\ms-toolsai.jupyter-2022.3.1000901801\\out\\extension.js:2:1216694)",
      "at c:\\Users\\javits\\.vscode\\extensions\\ms-toolsai.jupyter-2022.3.1000901801\\out\\extension.js:2:533674",
      "at t.swallowExceptions (c:\\Users\\javits\\.vscode\\extensions\\ms-toolsai.jupyter-2022.3.1000901801\\out\\extension.js:2:913059)",
      "at dispose (c:\\Users\\javits\\.vscode\\extensions\\ms-toolsai.jupyter-2022.3.1000901801\\out\\extension.js:2:533652)",
      "at t.RawSession.dispose (c:\\Users\\javits\\.vscode\\extensions\\ms-toolsai.jupyter-2022.3.1000901801\\out\\extension.js:2:537330)",
      "at runMicrotasks (<anonymous>)",
      "at processTicksAndRejections (node:internal/process/task_queues:96:5)"
     ]
    }
   ],
   "source": [
    "stream = audio.open(\n",
    "    input_device_index=0,\n",
    "    format=FORMAT,\n",
    "    channels=CHANNELS,\n",
    "    rate=RATE,\n",
    "    input=True,\n",
    "    stream_callback=callback,\n",
    "    frames_per_buffer=NOFFRAMES)\n",
    "\n",
    "stream.start_stream()\n",
    "print(\"speak\")\n",
    "\n",
    "# wait for stream to finish (5)\n",
    "while stream.is_active() and time.time:\n",
    "    time.sleep(0.1)"
   ]
  },
  {
   "cell_type": "code",
   "execution_count": null,
   "metadata": {},
   "outputs": [],
   "source": [
    "# stream.stop_stream()\n",
    "# stream.close()\n",
    "# p.terminate()\n",
    "# print('done')\n",
    "# plt.plot(decoded)\n",
    "# plt.show()"
   ]
  },
  {
   "cell_type": "code",
   "execution_count": null,
   "metadata": {},
   "outputs": [],
   "source": []
  }
 ],
 "metadata": {
  "interpreter": {
   "hash": "b151130104a94ff3017b68869b22a1ced11b5d2f82a48a6f06a71b58209bb882"
  },
  "kernelspec": {
   "display_name": "Python 3.9.12 64-bit (windows store)",
   "language": "python",
   "name": "python3"
  },
  "language_info": {
   "codemirror_mode": {
    "name": "ipython",
    "version": 3
   },
   "file_extension": ".py",
   "mimetype": "text/x-python",
   "name": "python",
   "nbconvert_exporter": "python",
   "pygments_lexer": "ipython3",
   "version": "3.9.12"
  },
  "orig_nbformat": 4
 },
 "nbformat": 4,
 "nbformat_minor": 2
}
